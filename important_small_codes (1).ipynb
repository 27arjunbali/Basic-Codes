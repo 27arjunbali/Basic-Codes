{
  "nbformat": 4,
  "nbformat_minor": 0,
  "metadata": {
    "colab": {
      "name": "important_small_codes.ipynb",
      "provenance": [],
      "collapsed_sections": []
    },
    "kernelspec": {
      "name": "python3",
      "display_name": "Python 3"
    },
    "language_info": {
      "name": "python"
    }
  },
  "cells": [
    {
      "cell_type": "code",
      "execution_count": 39,
      "metadata": {
        "colab": {
          "base_uri": "https://localhost:8080/"
        },
        "id": "HFutZPhhQy3V",
        "outputId": "538a18e7-dddf-4739-e4b5-b93201ce7e3e"
      },
      "outputs": [
        {
          "output_type": "stream",
          "name": "stdout",
          "text": [
            "1: 4\n",
            "2: 2\n",
            "[2, 4, 3, 0, 1]\n",
            "2: 3\n",
            "[2, 4, 3, 0, 1]\n",
            "2: 0\n",
            "[0, 4, 3, 2, 1]\n",
            "2: 1\n",
            "[0, 4, 3, 2, 1]\n",
            "1: 4\n",
            "2: 3\n",
            "[0, 3, 4, 2, 1]\n",
            "2: 2\n",
            "[0, 2, 4, 3, 1]\n",
            "2: 1\n",
            "[0, 1, 4, 3, 2]\n",
            "1: 4\n",
            "2: 3\n",
            "[0, 1, 3, 4, 2]\n",
            "2: 2\n",
            "[0, 1, 2, 4, 3]\n",
            "1: 4\n",
            "2: 3\n",
            "[0, 1, 2, 3, 4]\n",
            "1: 4\n",
            "[0, 1, 2, 3, 4]\n"
          ]
        }
      ],
      "source": [
        "# code to sort a list in python without using sort()\n",
        "my_list = [4, 2, 3, 0, 1]\n",
        "\n",
        "for i in range(len(my_list)):\n",
        "    print(\"1:\",my_list[i])\n",
        "    for j in range(i + 1, len(my_list)):\n",
        "        print(\"2:\",my_list[j])\n",
        "        if my_list[i] > my_list[j]:\n",
        "            my_list[i], my_list[j] = my_list[j], my_list[i]\n",
        "        print(my_list)\n",
        "\n",
        "print(my_list)"
      ]
    },
    {
      "cell_type": "code",
      "source": [
        "# code to find the unique values in the list\n",
        "a = [1, 2, 2, 3]\n",
        "b = []\n",
        "for i in a:\n",
        "    if i not in b:\n",
        "        b.append(i)\n",
        "print (b)"
      ],
      "metadata": {
        "colab": {
          "base_uri": "https://localhost:8080/"
        },
        "id": "N0HhYI4KTgt8",
        "outputId": "cc36c9f6-ba3b-440b-d6d3-0eeaf08c3a91"
      },
      "execution_count": null,
      "outputs": [
        {
          "output_type": "stream",
          "name": "stdout",
          "text": [
            "[1, 2, 3]\n"
          ]
        }
      ]
    },
    {
      "cell_type": "code",
      "source": [
        "# code to make fibonacci numbers using generators\n",
        "def fib():\n",
        "  a,b=0,1\n",
        "  #infinite loop\n",
        "  while True:\n",
        "    yield a\n",
        "    a,b=b,a+b\n",
        "\n",
        "for f in fib():\n",
        "  if f >50:\n",
        "    break\n",
        "  print(f)\n",
        "\n",
        "\n",
        "# next(fib())   "
      ],
      "metadata": {
        "id": "Cia9PpIyT13b",
        "colab": {
          "base_uri": "https://localhost:8080/"
        },
        "outputId": "5077eef8-c66c-484c-f293-393b5fb1f96e"
      },
      "execution_count": 41,
      "outputs": [
        {
          "output_type": "stream",
          "name": "stdout",
          "text": [
            "0\n",
            "1\n",
            "1\n",
            "2\n",
            "3\n",
            "5\n",
            "8\n",
            "13\n",
            "21\n",
            "34\n"
          ]
        }
      ]
    },
    {
      "cell_type": "code",
      "source": [
        "for f in fib():\n",
        "  if f >100:\n",
        "    break\n",
        "  print(f)"
      ],
      "metadata": {
        "colab": {
          "base_uri": "https://localhost:8080/"
        },
        "id": "3Aijk8x5pDc7",
        "outputId": "3cde1bdd-28c4-4150-b3a6-ad0e57af316e"
      },
      "execution_count": 27,
      "outputs": [
        {
          "output_type": "stream",
          "name": "stdout",
          "text": [
            "0\n",
            "1\n",
            "1\n",
            "2\n",
            "3\n",
            "5\n",
            "8\n",
            "13\n",
            "21\n",
            "34\n",
            "55\n",
            "89\n"
          ]
        }
      ]
    },
    {
      "cell_type": "code",
      "source": [
        "# code to make fibonacci numbers without generators\n",
        "def fibonacci(n):\n",
        "    a = 0\n",
        "    b = 1\n",
        "     \n",
        "    # Check is n is less\n",
        "    # than 0\n",
        "    if n < 0:\n",
        "        print(\"Incorrect input\")\n",
        "         \n",
        "    # Check is n is equal\n",
        "    # to 0\n",
        "    elif n == 0:\n",
        "        return a\n",
        "       \n",
        "    # Check if n is equal to 1\n",
        "    elif n == 1:\n",
        "        return b\n",
        "    else:\n",
        "        for i in range(1, n):\n",
        "          print(\"1:\",a,b)\n",
        "          a,b=b,a+b\n",
        "          print(\"2:\",a,b)\n",
        "          print(\"3:\",b)\n",
        "        return b\n",
        "print(fibonacci(9))"
      ],
      "metadata": {
        "colab": {
          "base_uri": "https://localhost:8080/"
        },
        "id": "MY6-1H1IkvGc",
        "outputId": "d967c694-e00c-404f-abb7-192fd2d5f7d7"
      },
      "execution_count": 17,
      "outputs": [
        {
          "output_type": "stream",
          "name": "stdout",
          "text": [
            "1: 0 1\n",
            "2: 1 1\n",
            "3: 1\n",
            "1: 1 1\n",
            "2: 1 2\n",
            "3: 2\n",
            "1: 1 2\n",
            "2: 2 3\n",
            "3: 3\n",
            "1: 2 3\n",
            "2: 3 5\n",
            "3: 5\n",
            "1: 3 5\n",
            "2: 5 8\n",
            "3: 8\n",
            "1: 5 8\n",
            "2: 8 13\n",
            "3: 13\n",
            "1: 8 13\n",
            "2: 13 21\n",
            "3: 21\n",
            "1: 13 21\n",
            "2: 21 34\n",
            "3: 34\n",
            "34\n"
          ]
        }
      ]
    },
    {
      "cell_type": "code",
      "source": [
        "# inheritance\n",
        "class Vehicle:\n",
        "  def general_usage(self):\n",
        "    print(\"general use: transportation\")\n",
        "\n",
        "# to perform inheritance we put vehicle class inside car class\n",
        "\n",
        "class Car(Vehicle):\n",
        "  def __init__(self):\n",
        "    print(\"I'm car\")\n",
        "    self.wheels=4\n",
        "    self.has_roof=True\n",
        "\n",
        "  def specific_usage(self):\n",
        "    #during revision comment this below line\n",
        "    self.general_usage()\n",
        "    print(\"specific use: commute to work, vacation with family\")\n",
        "\n",
        "class Bike(Vehicle):\n",
        "    def __init__(self):\n",
        "      print(\"I'm bike\")\n",
        "      self.wheels=2\n",
        "      self.has_roof=False\n",
        "\n",
        "    def specific_usage(self):\n",
        "      #here we inherit specific_usage function from vehicle class\n",
        "      #during revision comment this below line\n",
        "      self.general_usage()\n",
        "      print(\"specific use: racing, masti\")\n",
        "\n",
        "# let's create objects\n",
        "c=Car()\n",
        "# we inherit general_usage function from Vehicle class\n",
        "# c.general_usage()\n",
        "c.specific_usage()"
      ],
      "metadata": {
        "colab": {
          "base_uri": "https://localhost:8080/"
        },
        "id": "TYd5rzZlmcCI",
        "outputId": "c1ce4978-edca-4973-ae64-463f97f293a5"
      },
      "execution_count": 31,
      "outputs": [
        {
          "output_type": "stream",
          "name": "stdout",
          "text": [
            "I'm car\n",
            "general use: transportation\n",
            "specific use: commute to work, vacation with family\n"
          ]
        }
      ]
    },
    {
      "cell_type": "code",
      "source": [
        "#multiple inheritance\n",
        "class Father():\n",
        "  def gardening(self):\n",
        "    print('I enjoy gardening')\n",
        "\n",
        "class Mother():\n",
        "  def cooking(self):\n",
        "    print(\"I love cooking\")\n",
        "\n",
        "class Child(Father,Mother):\n",
        "  def sports(self):\n",
        "    print(\"I enjoy sports\")\n",
        "\n",
        "c=Child()\n",
        "c.gardening()\n",
        "c.cooking()\n",
        "c.sports()\n",
        "\n",
        "# if all the classes have same method\n",
        "class Father():\n",
        "  def enjoy(self):\n",
        "    print('I enjoy gardening')\n",
        "\n",
        "class Mother():\n",
        "  def enjoy(self):\n",
        "    print(\"I love cooking\")\n",
        "\n",
        "class Child(Father,Mother):\n",
        "  def enjoy(self):\n",
        "    # if all the mehtods have same then we have to call these methods here in child class\n",
        "    Father.enjoy(self)\n",
        "    Mother.enjoy(self)\n",
        "    print(\"I enjoy sports\")\n",
        "\n",
        "d=Child()\n",
        "d.enjoy()"
      ],
      "metadata": {
        "colab": {
          "base_uri": "https://localhost:8080/"
        },
        "id": "qOwgCM7Cs5kh",
        "outputId": "8409914d-1e09-405f-914a-72d686a5c9f6"
      },
      "execution_count": 9,
      "outputs": [
        {
          "output_type": "stream",
          "name": "stdout",
          "text": [
            "I enjoy gardening\n",
            "I love cooking\n",
            "I enjoy sports\n",
            "I enjoy gardening\n",
            "I love cooking\n",
            "I enjoy sports\n"
          ]
        }
      ]
    },
    {
      "cell_type": "code",
      "source": [
        "# Multithreading\n",
        "# there is a time when we are calling a web server or waiting for packet in our network socket and our cpu is not doing anything multi-threading tries to utilize this idle time\n",
        "import time\n",
        "\n",
        "def calc_square(numbers):\n",
        "  print(\"calculate square numbers\")\n",
        "  for n in numbers:\n",
        "    # it is for suspending the execution of our current function for some time\n",
        "    time.sleep(0.2)\n",
        "    print('square:',n*n)\n",
        "\n",
        "def calc_cube(numbers):\n",
        "  print(\"calculate cube of numbers\")\n",
        "  for n in numbers:\n",
        "    time.sleep(0.2)\n",
        "    print('cube:',n*n*n)\n",
        "\n",
        "arr=[2,3,8,9]\n",
        "t=time.time()\n",
        "calc_square(arr)\n",
        "calc_cube(arr)\n",
        "\n",
        "print(\"done in : \",time.time()-t)\n",
        "print(\"Hah... I am done with all my work now!\")\n",
        "\n",
        "# now we will apply multi-threading\n",
        "import threading\n",
        "\n",
        "def calc_square(numbers):\n",
        "  print(\"calculate square numbers\")\n",
        "  for n in numbers:\n",
        "    time.sleep(0.2)\n",
        "    print('square:',n*n)\n",
        "\n",
        "def calc_cube(numbers):\n",
        "  print(\"calculate cube of numbers\")\n",
        "  for n in numbers:\n",
        "    time.sleep(0.2)\n",
        "    print('cube:',n*n*n)\n",
        "\n",
        "arr=[2,3,8,9]\n",
        "t=time.time()\n",
        "\n",
        "t1=threading.Thread(target=calc_square, args=(arr,))\n",
        "t2=threading.Thread(target=calc_cube,args=(arr,))\n",
        "# starting the thread\n",
        "t1.start()\n",
        "t2.start()\n",
        "# joining the thread to main program\n",
        "t1.join()\n",
        "t2.join()\n",
        "\n",
        "print(\"done in : \",time.time()-t)\n",
        "print(\"Hah... muti-threading is taking less time as compared to normal way\")\n"
      ],
      "metadata": {
        "colab": {
          "base_uri": "https://localhost:8080/"
        },
        "id": "KSboV9_wvYCJ",
        "outputId": "afaeab9a-c46a-4395-ecb4-9f4eb89ba486"
      },
      "execution_count": 14,
      "outputs": [
        {
          "output_type": "stream",
          "name": "stdout",
          "text": [
            "calculate square numbers\n",
            "square: 4\n",
            "square: 9\n",
            "square: 64\n",
            "square: 81\n",
            "calculate cube of numbers\n",
            "cube: 8\n",
            "cube: 27\n",
            "cube: 512\n",
            "cube: 729\n",
            "done in :  1.60756516456604\n",
            "Hah... I am done with all my work now!\n",
            "calculate square numbers\n",
            "calculate cube of numbers\n",
            "square: 4\n",
            "cube: 8\n",
            "square: 9\n",
            "cube: 27\n",
            "square: 64\n",
            "cube: 512\n",
            "square: 81\n",
            "cube: 729\n",
            "done in :  0.8070244789123535\n",
            "Hah... muti-threading is taking less time as compared to normal way\n"
          ]
        }
      ]
    },
    {
      "cell_type": "code",
      "source": [
        "# multiprocessing vs multithreading\n",
        "# Both are ways to achieve multitasking (when we are trying to work on multi-task at the same time)\n",
        "# Thread will have their own stack memory own instruction pointer only they share is their address space which means if we have global variable in our programs they can be shared by multiple threads\n",
        "# and heap memory can be accessed by this\n",
        "# The benefit of multiprocessing is that error or memory leak in one process won't hurt execution of another process\n",
        "# on the other if thread faces error or memory it can hurt all other threads"
      ],
      "metadata": {
        "id": "nNpslQfq3OT5"
      },
      "execution_count": null,
      "outputs": []
    },
    {
      "cell_type": "code",
      "source": [
        "# Multiprocessing\n",
        "from multiprocessing import Pool\n",
        "import time\n",
        "\n",
        "def f(n):\n",
        "  sum=0\n",
        "  for x in range(10000):\n",
        "    sum+=x*x\n",
        "  return sum\n",
        "\n",
        "t1=time.time()\n",
        "p=Pool()\n",
        "result=p.map(f,range(10000))\n",
        "p.close()\n",
        "p.join()\n",
        "\n",
        "print(\"Pool took:\",time.time()-t1)\n",
        "\n",
        "t2=time.time()\n",
        "result=[]\n",
        "for x in range(10000):\n",
        "  result.append(f(x))\n",
        "print(\"Serial processing took: \",time.time()-t2)\n",
        "\n",
        "\n"
      ],
      "metadata": {
        "colab": {
          "base_uri": "https://localhost:8080/"
        },
        "id": "ubSzJPgh-Fri",
        "outputId": "72893cef-87f3-48a2-9efd-4f533a17187e"
      },
      "execution_count": 20,
      "outputs": [
        {
          "output_type": "stream",
          "name": "stdout",
          "text": [
            "Pool took: 11.255397319793701\n",
            "Serial processing took:  10.7020263671875\n"
          ]
        }
      ]
    },
    {
      "cell_type": "code",
      "source": [
        "# List set dict comprehensions\n",
        "numbers=[1,2,3,4,5,6,7]\n",
        "# using traditinal method\n",
        "even=[]\n",
        "for i in numbers:\n",
        "  if i%2==0:\n",
        "    even.append(i)\n",
        "print(even)\n",
        "# List comprehensions will provide the way to get our code done in 1 line\n",
        "even=[i for i in numbers if i%2==0]\n",
        "print('List comp way', even)\n",
        "sqr_number=[i*i for i in numbers]\n",
        "print(sqr_number)\n",
        "# set comprehensions\n",
        "# traditional way\n",
        "s=set([1,2,3,4,5,2,3])\n",
        "print(s)\n",
        "# set comprehensions\n",
        "even={i for i in s if i%2==0}\n",
        "print(even)\n",
        "# Dictionary compreshions\n",
        "cities=[\"jammu\",\"new york\",\"paris\"]\n",
        "countries=[\"india\",\"usa\",\"france\"]\n",
        "# zip is a inbuild function in python which zip two list together\n",
        "z=zip(cities,countries)\n",
        "# z is object of zip class \n",
        "# enumerate is class for counting the iterations\n",
        "for a in enumerate(z):\n",
        "  print(a)\n",
        "d={city:country for city,country in zip(cities,countries)}\n",
        "print(d)"
      ],
      "metadata": {
        "colab": {
          "base_uri": "https://localhost:8080/"
        },
        "id": "IOcxB8nS-dD7",
        "outputId": "93bde8cc-cd51-4331-a76f-c3ee5fc1f277"
      },
      "execution_count": 32,
      "outputs": [
        {
          "output_type": "stream",
          "name": "stdout",
          "text": [
            "[2, 4, 6]\n",
            "List comp way [2, 4, 6]\n",
            "[1, 4, 9, 16, 25, 36, 49]\n",
            "{1, 2, 3, 4, 5}\n",
            "{2, 4}\n",
            "(0, ('jammu', 'india'))\n",
            "(1, ('new york', 'usa'))\n",
            "(2, ('paris', 'france'))\n",
            "{'jammu': 'india', 'new york': 'usa', 'paris': 'france'}\n"
          ]
        }
      ]
    },
    {
      "cell_type": "code",
      "source": [
        "import numpy as np\n",
        "import time\n",
        "import sys\n",
        "a=np.array([1,2,3])\n",
        "print(a)\n",
        "# it is similar to list why we need numpy?\n",
        "print(a[1])\n",
        "print(a[2])\n",
        "# it has 3 benefits: 1) it takes less memory, 2) it is fast, 3) it is convinient\n",
        "# in python everything is a object so each element in list will store 14 bytes where as numpy array 1 element will store 4 bytes\n",
        "l=range(1000)\n",
        "print(\"list memory of elements in list is \",sys.getsizeof(1)*len(l))\n",
        "array=np.arange(1000)\n",
        "print(\"list memeory of all the elements in array is \",array.size*array.itemsize)\n",
        "# np.array is fast\n",
        "size=1000000\n",
        "l1=range(size)\n",
        "l2=range(size)\n",
        "a1=np.arange(size)\n",
        "a2=np.arange(size)\n",
        "start=time.time()\n",
        "result=[(x+y) for x,y in zip(l1,l2)]\n",
        "print(\"python list took: \",(time.time()-start))\n",
        "# numpy array\n",
        "start=time.time()\n",
        "result=a1+a2\n",
        "print(\"numpy took: \", (time.time()-start))\n",
        "# convinient\n",
        "a1=np.array([1,2,3])\n",
        "a2=np.array([4,5,6])\n",
        "print(a1+a2)\n",
        "print(a2-a1)\n",
        "print(a1*a2)\n",
        "print(a1/a2)"
      ],
      "metadata": {
        "colab": {
          "base_uri": "https://localhost:8080/"
        },
        "id": "bz4KXzixLN5c",
        "outputId": "cb3934a2-53b5-403f-8592-39edae5c3cab"
      },
      "execution_count": 13,
      "outputs": [
        {
          "output_type": "stream",
          "name": "stdout",
          "text": [
            "[1 2 3]\n",
            "2\n",
            "3\n",
            "list memory of elements in list is  28000\n",
            "list memeory of all the elements in array is  8000\n",
            "python list took:  0.11591005325317383\n",
            "numpy took:  0.020134449005126953\n",
            "[5 7 9]\n",
            "[3 3 3]\n",
            "[ 4 10 18]\n",
            "[0.25 0.4  0.5 ]\n"
          ]
        }
      ]
    },
    {
      "cell_type": "code",
      "source": [
        "# pandas has default of int64 but if we have data which is between 1 to 11 then we can convert it into dtype{\"column_name\":\"int8\"}\n",
        "# to use only 2 columns when loading csv file using pandas we can write df=pd.read_csv('example.csv',usecols=[\"First Name\",\"Last Name\"]) it will take less memory\n",
        "# for pandas refer https://www.youtube.com/watch?v=HNE0qHJ9A9o\n",
        "# for memory saving tricks refer https://pythonspeed.com/articles/pandas-load-less-data/"
      ],
      "metadata": {
        "id": "gcwmiMtQtW9M"
      },
      "execution_count": null,
      "outputs": []
    }
  ]
}