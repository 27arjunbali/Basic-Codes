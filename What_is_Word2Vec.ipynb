{
  "nbformat": 4,
  "nbformat_minor": 0,
  "metadata": {
    "colab": {
      "name": "What is Word2Vec.ipynb",
      "provenance": [],
      "collapsed_sections": []
    },
    "kernelspec": {
      "name": "python3",
      "display_name": "Python 3"
    },
    "language_info": {
      "name": "python"
    }
  },
  "cells": [
    {
      "cell_type": "markdown",
      "source": [
        "https://www.youtube.com/watch?v=hQwFeIupNP0"
      ],
      "metadata": {
        "id": "YA9psk2mW6Nz"
      }
    },
    {
      "cell_type": "markdown",
      "source": [
        "Word2Vec is a technique in computer science that allows you to do maths with the words. We can give equation to a computer where we can give king-man+women-=queen. Computer don't understand they understand numbers for this we can represent a word like king into vectors. Lets take an example here we have word king in which king has these attributes [authority,no tail, rich, male] so we represent this as [1,0,1,-1] and let's take word horse [no authority, have tail, not rich, male] -> [0,1,0,-1]. So we take example of this equation where King has attrinbutes [authority,not a event, has no tail,rich,male] -> [1,0,0,1,-1], man has attributes [little authority,not a event, has no tail, little rich, male] -> [0.2,0,0,0.3,-1] and for women we have [little authority, not a event, has no tail,little rich,female] -> [0.2,0,0,0.2,1], queen we have [authority,not a event, has no tail,rich,female]->[1,0,0,1,1]   and if we follow this equation king-man+women=? here [1,0,0,1,-1] - [0.2,0,0,0.3,-1] + [0.2,0,0,0.2,1]= [1,0,0,0.9,1] which is similar to vector of queen so answer is queen"
      ],
      "metadata": {
        "id": "VXg25oRER1Bk"
      }
    },
    {
      "cell_type": "markdown",
      "source": [
        "Embedding are not hand crafted. Instead, they are learnt during neural network training. The vectors of king are his feature vector. In neural network it will all work magically. The weights which are getting updated are the word vectors.Then we have words like ____ order his and answer will be King order his this is called Continuous Bag Of Words. king ___ ___ answer will be king order his which is called skip gram"
      ],
      "metadata": {
        "id": "t4QxpjQ7Vk8Z"
      }
    },
    {
      "cell_type": "code",
      "execution_count": null,
      "metadata": {
        "id": "g2oY7FprRn_9"
      },
      "outputs": [],
      "source": [
        ""
      ]
    },
    {
      "cell_type": "code",
      "source": [
        ""
      ],
      "metadata": {
        "id": "YHNbIUUDVT6D"
      },
      "execution_count": null,
      "outputs": []
    }
  ]
}